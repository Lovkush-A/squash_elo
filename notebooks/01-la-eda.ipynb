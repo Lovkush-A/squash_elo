{
 "cells": [
  {
   "cell_type": "code",
   "execution_count": 24,
   "id": "2f44dbb6",
   "metadata": {},
   "outputs": [],
   "source": [
    "import pandas as pd\n",
    "import numpy as np\n",
    "import matplotlib as plt\n",
    "import seaborn as sns\n",
    "\n",
    "import os\n",
    "import re\n",
    "from tqdm.notebook import tqdm"
   ]
  },
  {
   "cell_type": "markdown",
   "id": "bbf93bdb",
   "metadata": {},
   "source": [
    "# Summary\n",
    "In this notebook I carry out EDA, cleaning and processing of data.\n",
    "\n",
    "* tournaments_male.csv. Decided this is not useful so did nothing with this\n",
    "* matches_male.csv.\n",
    "    * Dropped the columns `tournament_index` and `round`"
   ]
  },
  {
   "cell_type": "markdown",
   "id": "ca6efc52",
   "metadata": {},
   "source": [
    "### Load data"
   ]
  },
  {
   "cell_type": "code",
   "execution_count": 25,
   "id": "2c85a1c2",
   "metadata": {},
   "outputs": [],
   "source": [
    "dir_raw = '../data/raw/'\n",
    "dir_processed = '../data/processed'"
   ]
  },
  {
   "cell_type": "code",
   "execution_count": 26,
   "id": "158f54a9",
   "metadata": {},
   "outputs": [
    {
     "data": {
      "text/plain": [
       "['.gitkeep', 'tournaments_male.csv', '.ipynb_checkpoints', 'matches_male.csv']"
      ]
     },
     "execution_count": 26,
     "metadata": {},
     "output_type": "execute_result"
    }
   ],
   "source": [
    "os.listdir(dir_raw)"
   ]
  },
  {
   "cell_type": "code",
   "execution_count": 27,
   "id": "56785bd1",
   "metadata": {},
   "outputs": [],
   "source": [
    "matches = pd.read_csv(dir_raw+'matches_male.csv', index_col = 0)\n",
    "tournaments = pd.read_csv(dir_raw+'tournaments_male.csv', index_col = 0)"
   ]
  },
  {
   "cell_type": "code",
   "execution_count": 28,
   "id": "1e0e798b",
   "metadata": {},
   "outputs": [
    {
     "data": {
      "text/html": [
       "<div>\n",
       "<style scoped>\n",
       "    .dataframe tbody tr th:only-of-type {\n",
       "        vertical-align: middle;\n",
       "    }\n",
       "\n",
       "    .dataframe tbody tr th {\n",
       "        vertical-align: top;\n",
       "    }\n",
       "\n",
       "    .dataframe thead th {\n",
       "        text-align: right;\n",
       "    }\n",
       "</style>\n",
       "<table border=\"1\" class=\"dataframe\">\n",
       "  <thead>\n",
       "    <tr style=\"text-align: right;\">\n",
       "      <th></th>\n",
       "      <th>tournament_index</th>\n",
       "      <th>round</th>\n",
       "      <th>players</th>\n",
       "      <th>result</th>\n",
       "    </tr>\n",
       "  </thead>\n",
       "  <tbody>\n",
       "    <tr>\n",
       "      <th>0</th>\n",
       "      <td>0</td>\n",
       "      <td>Quarter-finals</td>\n",
       "      <td>[1] Tayyab Aslam (PAK) bt Farhan Hashmi (PAK)</td>\n",
       "      <td>7-11, 11-9, 11-5, 11-5 (32m)</td>\n",
       "    </tr>\n",
       "    <tr>\n",
       "      <th>1</th>\n",
       "      <td>0</td>\n",
       "      <td>Quarter-finals</td>\n",
       "      <td>[7] Israr Ahmed (PAK) bt [9/16] Waqas Mehboob ...</td>\n",
       "      <td>11-3, 11-3, 11-8 (23m)</td>\n",
       "    </tr>\n",
       "    <tr>\n",
       "      <th>2</th>\n",
       "      <td>0</td>\n",
       "      <td>Quarter-finals</td>\n",
       "      <td>[4] Amaad Fareed (PAK) bt [5] Farhan Zaman (PAK)</td>\n",
       "      <td>11-8, 11-7, 12-10 (25m)</td>\n",
       "    </tr>\n",
       "    <tr>\n",
       "      <th>3</th>\n",
       "      <td>0</td>\n",
       "      <td>Quarter-finals</td>\n",
       "      <td>[9/16] Nasir Iqbal (PAK) bt [2] Asim Khan (PAK)</td>\n",
       "      <td>11-9, 11-2, 7-11, 11-5 (42m)</td>\n",
       "    </tr>\n",
       "    <tr>\n",
       "      <th>4</th>\n",
       "      <td>0</td>\n",
       "      <td>2nd round</td>\n",
       "      <td>[1] Tayyab Aslam (PAK) bt [9/16] Noor Zaman (PAK)</td>\n",
       "      <td>11-1, 11-9, 11-9 (25m)</td>\n",
       "    </tr>\n",
       "  </tbody>\n",
       "</table>\n",
       "</div>"
      ],
      "text/plain": [
       "   tournament_index           round  \\\n",
       "0                 0  Quarter-finals   \n",
       "1                 0  Quarter-finals   \n",
       "2                 0  Quarter-finals   \n",
       "3                 0  Quarter-finals   \n",
       "4                 0       2nd round   \n",
       "\n",
       "                                             players  \\\n",
       "0      [1] Tayyab Aslam (PAK) bt Farhan Hashmi (PAK)   \n",
       "1  [7] Israr Ahmed (PAK) bt [9/16] Waqas Mehboob ...   \n",
       "2   [4] Amaad Fareed (PAK) bt [5] Farhan Zaman (PAK)   \n",
       "3    [9/16] Nasir Iqbal (PAK) bt [2] Asim Khan (PAK)   \n",
       "4  [1] Tayyab Aslam (PAK) bt [9/16] Noor Zaman (PAK)   \n",
       "\n",
       "                         result  \n",
       "0  7-11, 11-9, 11-5, 11-5 (32m)  \n",
       "1        11-3, 11-3, 11-8 (23m)  \n",
       "2       11-8, 11-7, 12-10 (25m)  \n",
       "3  11-9, 11-2, 7-11, 11-5 (42m)  \n",
       "4        11-1, 11-9, 11-9 (25m)  "
      ]
     },
     "execution_count": 28,
     "metadata": {},
     "output_type": "execute_result"
    }
   ],
   "source": [
    "matches.head(5)"
   ]
  },
  {
   "cell_type": "code",
   "execution_count": 29,
   "id": "98fe71ef",
   "metadata": {},
   "outputs": [
    {
     "data": {
      "text/html": [
       "<div>\n",
       "<style scoped>\n",
       "    .dataframe tbody tr th:only-of-type {\n",
       "        vertical-align: middle;\n",
       "    }\n",
       "\n",
       "    .dataframe tbody tr th {\n",
       "        vertical-align: top;\n",
       "    }\n",
       "\n",
       "    .dataframe thead th {\n",
       "        text-align: right;\n",
       "    }\n",
       "</style>\n",
       "<table border=\"1\" class=\"dataframe\">\n",
       "  <thead>\n",
       "    <tr style=\"text-align: right;\">\n",
       "      <th></th>\n",
       "      <th>index</th>\n",
       "      <th>tournament_type</th>\n",
       "      <th>name</th>\n",
       "      <th>location</th>\n",
       "      <th>date</th>\n",
       "      <th>url</th>\n",
       "      <th>matches_downloaded</th>\n",
       "    </tr>\n",
       "  </thead>\n",
       "  <tbody>\n",
       "    <tr>\n",
       "      <th>0</th>\n",
       "      <td>0</td>\n",
       "      <td>Challenger Tour 10</td>\n",
       "      <td>Pakistan International Championship (M)</td>\n",
       "      <td>Islamabad, Pakistan</td>\n",
       "      <td>11 Dec 2020</td>\n",
       "      <td>http://www.squashinfo.com/events/713-mens-paki...</td>\n",
       "      <td>True</td>\n",
       "    </tr>\n",
       "    <tr>\n",
       "      <th>1</th>\n",
       "      <td>1</td>\n",
       "      <td>Challenger Tour 10</td>\n",
       "      <td>Sihltal Classic (M)</td>\n",
       "      <td>Langnau am Albis, Switzerland</td>\n",
       "      <td>6 Dec 2020</td>\n",
       "      <td>http://www.squashinfo.com/events/8603-mens-sih...</td>\n",
       "      <td>True</td>\n",
       "    </tr>\n",
       "    <tr>\n",
       "      <th>2</th>\n",
       "      <td>2</td>\n",
       "      <td>Challenger Tour 10</td>\n",
       "      <td>BISL International (M)</td>\n",
       "      <td>Quetta, Pakistan</td>\n",
       "      <td>28 Nov 2020</td>\n",
       "      <td>http://www.squashinfo.com/events/8594-mens-bis...</td>\n",
       "      <td>True</td>\n",
       "    </tr>\n",
       "    <tr>\n",
       "      <th>3</th>\n",
       "      <td>3</td>\n",
       "      <td>Challenger Tour 10</td>\n",
       "      <td>Liechtenstein Open (M)</td>\n",
       "      <td>Vaduz, Liechtenstein</td>\n",
       "      <td>22 Nov 2020</td>\n",
       "      <td>http://www.squashinfo.com/events/8587-mens-lie...</td>\n",
       "      <td>True</td>\n",
       "    </tr>\n",
       "    <tr>\n",
       "      <th>4</th>\n",
       "      <td>4</td>\n",
       "      <td>Challenger Tour 5</td>\n",
       "      <td>Austrian Open (M)</td>\n",
       "      <td>Salzburg, Austria</td>\n",
       "      <td>8 Nov 2020</td>\n",
       "      <td>http://www.squashinfo.com/events/8586-mens-aus...</td>\n",
       "      <td>True</td>\n",
       "    </tr>\n",
       "  </tbody>\n",
       "</table>\n",
       "</div>"
      ],
      "text/plain": [
       "   index     tournament_type                                     name  \\\n",
       "0      0  Challenger Tour 10  Pakistan International Championship (M)   \n",
       "1      1  Challenger Tour 10                      Sihltal Classic (M)   \n",
       "2      2  Challenger Tour 10                   BISL International (M)   \n",
       "3      3  Challenger Tour 10                   Liechtenstein Open (M)   \n",
       "4      4   Challenger Tour 5                        Austrian Open (M)   \n",
       "\n",
       "                        location         date  \\\n",
       "0            Islamabad, Pakistan  11 Dec 2020   \n",
       "1  Langnau am Albis, Switzerland   6 Dec 2020   \n",
       "2               Quetta, Pakistan  28 Nov 2020   \n",
       "3           Vaduz, Liechtenstein  22 Nov 2020   \n",
       "4              Salzburg, Austria   8 Nov 2020   \n",
       "\n",
       "                                                 url  matches_downloaded  \n",
       "0  http://www.squashinfo.com/events/713-mens-paki...                True  \n",
       "1  http://www.squashinfo.com/events/8603-mens-sih...                True  \n",
       "2  http://www.squashinfo.com/events/8594-mens-bis...                True  \n",
       "3  http://www.squashinfo.com/events/8587-mens-lie...                True  \n",
       "4  http://www.squashinfo.com/events/8586-mens-aus...                True  "
      ]
     },
     "execution_count": 29,
     "metadata": {},
     "output_type": "execute_result"
    }
   ],
   "source": [
    "tournaments.head(5)"
   ]
  },
  {
   "cell_type": "markdown",
   "id": "2a957457",
   "metadata": {},
   "source": [
    "For the aim of the project, this tournament dataframe is not necessary so I will not explore it further"
   ]
  },
  {
   "cell_type": "markdown",
   "id": "16a524f7",
   "metadata": {},
   "source": [
    "### `tournament_index` and `round`"
   ]
  },
  {
   "cell_type": "code",
   "execution_count": 30,
   "id": "28970ddd",
   "metadata": {},
   "outputs": [],
   "source": [
    "# drop tournament index as we do not need tournament information for elo\n",
    "matches = matches.drop(columns=['tournament_index'])"
   ]
  },
  {
   "cell_type": "code",
   "execution_count": 31,
   "id": "484b99c2",
   "metadata": {},
   "outputs": [
    {
     "data": {
      "text/plain": [
       "1st round                  23348\n",
       "1st qualifying round       13471\n",
       "Quarter-finals              9244\n",
       "Qualifying finals           8615\n",
       "2nd round                   4779\n",
       "Semi-finals                 4676\n",
       "Final                       2757\n",
       "2nd qualifying round         319\n",
       "3rd round                    297\n",
       "1st preliminary round        111\n",
       "1st pool round                61\n",
       "2nd pool round                60\n",
       "3rd pool round                60\n",
       "Final preliminary round       58\n",
       "2nd preliminary round         54\n",
       "3rd qualifying round          44\n",
       "Third place play-off          20\n",
       "3rd preliminary round         16\n",
       "4th qualifying round          16\n",
       "4th round                     16\n",
       "Fifth place play-off           3\n",
       "Seventh place play-off         3\n",
       "4th preliminary round          2\n",
       "Final: (26 Mar 2010)           1\n",
       "5th preliminary round          1\n",
       "Final: (10 Sep 2007)           1\n",
       "Name: round, dtype: int64"
      ]
     },
     "execution_count": 31,
     "metadata": {},
     "output_type": "execute_result"
    }
   ],
   "source": [
    "matches['round'].value_counts()"
   ]
  },
  {
   "cell_type": "code",
   "execution_count": 32,
   "id": "2a324040",
   "metadata": {},
   "outputs": [],
   "source": [
    "matches = matches.drop(columns=['round'])"
   ]
  },
  {
   "cell_type": "markdown",
   "id": "503559ee",
   "metadata": {},
   "source": [
    "We can see that the round column is a little bit dirty. However, like tournament index, it is actually not useful for us so I decided to drop it."
   ]
  },
  {
   "cell_type": "markdown",
   "id": "800b2764",
   "metadata": {},
   "source": [
    "### `result`, dropping bye"
   ]
  },
  {
   "cell_type": "markdown",
   "id": "5553b9ab",
   "metadata": {},
   "source": [
    "A manual skim through some values showed that the result columns sometimes just equals \"bye\"."
   ]
  },
  {
   "cell_type": "code",
   "execution_count": 15,
   "id": "a28d9d40",
   "metadata": {},
   "outputs": [
    {
     "data": {
      "text/html": [
       "<div>\n",
       "<style scoped>\n",
       "    .dataframe tbody tr th:only-of-type {\n",
       "        vertical-align: middle;\n",
       "    }\n",
       "\n",
       "    .dataframe tbody tr th {\n",
       "        vertical-align: top;\n",
       "    }\n",
       "\n",
       "    .dataframe thead th {\n",
       "        text-align: right;\n",
       "    }\n",
       "</style>\n",
       "<table border=\"1\" class=\"dataframe\">\n",
       "  <thead>\n",
       "    <tr style=\"text-align: right;\">\n",
       "      <th></th>\n",
       "      <th>players</th>\n",
       "      <th>result</th>\n",
       "    </tr>\n",
       "  </thead>\n",
       "  <tbody>\n",
       "    <tr>\n",
       "      <th>12</th>\n",
       "      <td>[1] Tayyab Aslam (PAK)</td>\n",
       "      <td>bye</td>\n",
       "    </tr>\n",
       "    <tr>\n",
       "      <th>15</th>\n",
       "      <td>[8] Zahir Shah (PAK)</td>\n",
       "      <td>bye</td>\n",
       "    </tr>\n",
       "    <tr>\n",
       "      <th>16</th>\n",
       "      <td>[7] Israr Ahmed (PAK)</td>\n",
       "      <td>bye</td>\n",
       "    </tr>\n",
       "    <tr>\n",
       "      <th>19</th>\n",
       "      <td>[3] Farhan Mehboob (PAK)</td>\n",
       "      <td>bye</td>\n",
       "    </tr>\n",
       "    <tr>\n",
       "      <th>20</th>\n",
       "      <td>[4] Amaad Fareed (PAK)</td>\n",
       "      <td>bye</td>\n",
       "    </tr>\n",
       "    <tr>\n",
       "      <th>...</th>\n",
       "      <td>...</td>\n",
       "      <td>...</td>\n",
       "    </tr>\n",
       "    <tr>\n",
       "      <th>67901</th>\n",
       "      <td>Mark Maclean (SCO)</td>\n",
       "      <td>bye</td>\n",
       "    </tr>\n",
       "    <tr>\n",
       "      <th>67902</th>\n",
       "      <td>Nasser Zahran (EGY)</td>\n",
       "      <td>bye</td>\n",
       "    </tr>\n",
       "    <tr>\n",
       "      <th>67903</th>\n",
       "      <td>Mohammed Awad (EGY)</td>\n",
       "      <td>bye</td>\n",
       "    </tr>\n",
       "    <tr>\n",
       "      <th>67904</th>\n",
       "      <td>Jansher Khan (PAK)</td>\n",
       "      <td>bye</td>\n",
       "    </tr>\n",
       "    <tr>\n",
       "      <th>67950</th>\n",
       "      <td>Philip Kenyon (ENG)</td>\n",
       "      <td>bye</td>\n",
       "    </tr>\n",
       "  </tbody>\n",
       "</table>\n",
       "<p>4123 rows × 2 columns</p>\n",
       "</div>"
      ],
      "text/plain": [
       "                        players result\n",
       "12       [1] Tayyab Aslam (PAK)    bye\n",
       "15         [8] Zahir Shah (PAK)    bye\n",
       "16        [7] Israr Ahmed (PAK)    bye\n",
       "19     [3] Farhan Mehboob (PAK)    bye\n",
       "20       [4] Amaad Fareed (PAK)    bye\n",
       "...                         ...    ...\n",
       "67901        Mark Maclean (SCO)    bye\n",
       "67902       Nasser Zahran (EGY)    bye\n",
       "67903       Mohammed Awad (EGY)    bye\n",
       "67904        Jansher Khan (PAK)    bye\n",
       "67950       Philip Kenyon (ENG)    bye\n",
       "\n",
       "[4123 rows x 2 columns]"
      ]
     },
     "execution_count": 15,
     "metadata": {},
     "output_type": "execute_result"
    }
   ],
   "source": [
    "bye_indices = (matches.result == 'bye')\n",
    "matches[bye_indices]"
   ]
  },
  {
   "cell_type": "markdown",
   "id": "c97ebdca",
   "metadata": {},
   "source": [
    "Looking at these values, this happens when a player is not paired up with somebody and so automatically qualifies to the next round. Hence, we can drop the rows with 'bye'"
   ]
  },
  {
   "cell_type": "code",
   "execution_count": 17,
   "id": "c03d55db",
   "metadata": {},
   "outputs": [],
   "source": [
    "matches = matches[~bye_indices]"
   ]
  },
  {
   "cell_type": "markdown",
   "id": "9824e007",
   "metadata": {},
   "source": [
    "### result, extracting information from results column\n",
    "\n",
    "The next few functions took several iterations and experimentation to create. I did not record the process by which I incrementally improved the function."
   ]
  },
  {
   "cell_type": "code",
   "execution_count": 33,
   "id": "d1f44799",
   "metadata": {},
   "outputs": [],
   "source": [
    "def determine_game_score(points: str) -> (int, int):\n",
    "    \"\"\"\n",
    "    Determine the score in games of a match.\n",
    "    \n",
    "    Parameters\n",
    "    ----------\n",
    "    points : str\n",
    "        The points in each game of a match. Should be something\n",
    "        like '11-8, 7-11, 11-9, 12-10'\n",
    "        * points for each game separated by ', '\n",
    "        * points of players in a single game separated by '-'\n",
    "        * in each game, the first number is the points of the\n",
    "        winner of the match\n",
    "    \n",
    "    Returns\n",
    "    -------\n",
    "    n_games_won_by_winner : int\n",
    "        The number of games won by the winner of the match\n",
    "    \n",
    "    n_games_won_by_loser : int\n",
    "        The number of games won by the loser of the match\n",
    "    \"\"\"\n",
    "    # parse the input string\n",
    "    points_parsed = [\n",
    "        [int(i) for i in point.split('-')]\n",
    "        for point in points.split(', ')\n",
    "    ]\n",
    "    \n",
    "    # calculate number of games won by winner and loser.\n",
    "    # convention is that for each game, the first number\n",
    "    # in the pair is the points of the winner of the match.\n",
    "    n_games_won_by_winner = 0\n",
    "    n_games_won_by_loser = 0\n",
    "    for points_winner, points_loser in points_parsed:\n",
    "        if points_winner>points_loser:\n",
    "            n_games_won_by_winner += 1\n",
    "        elif points_loser > points_winner:\n",
    "            n_games_won_by_loser +=1\n",
    "    \n",
    "    return n_games_won_by_winner, n_games_won_by_loser"
   ]
  },
  {
   "cell_type": "code",
   "execution_count": 34,
   "id": "388dfbf2",
   "metadata": {},
   "outputs": [
    {
     "name": "stdout",
     "output_type": "stream",
     "text": [
      "(3, 1)\n",
      "(2, 1)\n"
     ]
    }
   ],
   "source": [
    "# manual testing of determine_game_score\n",
    "print(determine_game_score('11-8, 7-11, 11-9, 12-10'))\n",
    "print(determine_game_score('1-11, 11-3, 11-9'))"
   ]
  },
  {
   "cell_type": "code",
   "execution_count": null,
   "id": "3c1349f4",
   "metadata": {},
   "outputs": [],
   "source": []
  }
 ],
 "metadata": {
  "kernelspec": {
   "display_name": "Python 3 (ipykernel)",
   "language": "python",
   "name": "python3"
  },
  "language_info": {
   "codemirror_mode": {
    "name": "ipython",
    "version": 3
   },
   "file_extension": ".py",
   "mimetype": "text/x-python",
   "name": "python",
   "nbconvert_exporter": "python",
   "pygments_lexer": "ipython3",
   "version": "3.9.6"
  }
 },
 "nbformat": 4,
 "nbformat_minor": 5
}
