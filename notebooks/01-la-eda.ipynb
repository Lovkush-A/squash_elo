{
 "cells": [
  {
   "cell_type": "code",
   "execution_count": null,
   "id": "2f44dbb6",
   "metadata": {},
   "outputs": [],
   "source": [
    "import pandas as pd\n",
    "import numpy as np\n",
    "import matplotlib as plt\n",
    "import seaborn as sns\n",
    "\n",
    "import os\n",
    "import re\n",
    "from tqdm.notebook import tqdm"
   ]
  },
  {
   "cell_type": "markdown",
   "id": "bbf93bdb",
   "metadata": {},
   "source": [
    "# Summary\n",
    "In this notebook I carry out EDA, cleaning and processing of data.\n",
    "\n",
    "* tournaments_male.csv. Decided this is not useful so did nothing with this\n",
    "* matches_male.csv.\n",
    "    * Dropped the columns `tournament_index` and `round`"
   ]
  },
  {
   "cell_type": "markdown",
   "id": "ca6efc52",
   "metadata": {},
   "source": [
    "### Load data"
   ]
  },
  {
   "cell_type": "code",
   "execution_count": null,
   "id": "2c85a1c2",
   "metadata": {},
   "outputs": [],
   "source": [
    "dir_raw = \"../data/raw/\"\n",
    "dir_processed = \"../data/processed\""
   ]
  },
  {
   "cell_type": "code",
   "execution_count": null,
   "id": "158f54a9",
   "metadata": {},
   "outputs": [],
   "source": [
    "os.listdir(dir_raw)"
   ]
  },
  {
   "cell_type": "code",
   "execution_count": null,
   "id": "56785bd1",
   "metadata": {},
   "outputs": [],
   "source": [
    "matches = pd.read_csv(dir_raw + \"matches_male.csv\", index_col=0)\n",
    "tournaments = pd.read_csv(dir_raw + \"tournaments_male.csv\", index_col=0)"
   ]
  },
  {
   "cell_type": "code",
   "execution_count": null,
   "id": "1e0e798b",
   "metadata": {},
   "outputs": [],
   "source": [
    "matches.head(5)"
   ]
  },
  {
   "cell_type": "code",
   "execution_count": null,
   "id": "98fe71ef",
   "metadata": {},
   "outputs": [],
   "source": [
    "tournaments.head(5)"
   ]
  },
  {
   "cell_type": "markdown",
   "id": "2a957457",
   "metadata": {},
   "source": [
    "For the aim of the project, this tournament dataframe is not necessary so I will not explore it further"
   ]
  },
  {
   "cell_type": "markdown",
   "id": "16a524f7",
   "metadata": {},
   "source": [
    "### `tournament_index` and `round`"
   ]
  },
  {
   "cell_type": "code",
   "execution_count": null,
   "id": "28970ddd",
   "metadata": {},
   "outputs": [],
   "source": [
    "# drop tournament index as we do not need tournament information for elo\n",
    "matches = matches.drop(columns=[\"tournament_index\"])"
   ]
  },
  {
   "cell_type": "code",
   "execution_count": null,
   "id": "484b99c2",
   "metadata": {},
   "outputs": [],
   "source": [
    "matches[\"round\"].value_counts()"
   ]
  },
  {
   "cell_type": "code",
   "execution_count": null,
   "id": "2a324040",
   "metadata": {},
   "outputs": [],
   "source": [
    "matches = matches.drop(columns=[\"round\"])"
   ]
  },
  {
   "cell_type": "markdown",
   "id": "503559ee",
   "metadata": {},
   "source": [
    "We can see that the round column is a little bit dirty. However, like tournament index, it is actually not useful for us so I decided to drop it."
   ]
  },
  {
   "cell_type": "markdown",
   "id": "9824e007",
   "metadata": {},
   "source": [
    "### result, extracting information from results column\n",
    "\n",
    "The next few functions took several iterations and experimentation to create. I did not record the process by which I incrementally improved the function."
   ]
  },
  {
   "cell_type": "code",
   "execution_count": null,
   "id": "9b8d8427",
   "metadata": {},
   "outputs": [],
   "source": [
    "def determine_result_type(result: str) -> (str):\n",
    "    if \"bye\" in result:\n",
    "        return \"bye\"\n",
    "\n",
    "    if \"w/o\" in result:\n",
    "        return \"wo\"\n",
    "\n",
    "    if \"ret\" in result:\n",
    "        return \"ret\"\n",
    "\n",
    "    if \"unknown\" in result:\n",
    "        return \"unknown\"\n",
    "\n",
    "    if result == \"No shows\":\n",
    "        return \"other\"\n",
    "\n",
    "    if result == \"Final not played due to unsafe court conditions\":\n",
    "        return \"other\"\n",
    "\n",
    "    if \"3/\" in result:\n",
    "        # then result is of the form \"3/i\" or \"3/i (15m)\" where i=0,1 or 2\n",
    "        return \"3/\"\n",
    "\n",
    "    if \"2/\" in result:\n",
    "        # then result is of the form \"2/i\" or \"2/i (15m)\" where i=0,1\n",
    "        return \"2/\"\n",
    "\n",
    "    # trying to get pattern that matches '11-3, 4-11, 11-9 (44m)'\n",
    "    pat = r\"(?P<points>[\\d, -]+\\d)(?: \\((?P<time>\\d+)m\\))?\"\n",
    "    match = re.match(pat, result)\n",
    "    if match:\n",
    "        return match.group(\"points\")\n",
    "\n",
    "    # if none of the above conditions were met, then\n",
    "    # want to see what it is\n",
    "    if True:\n",
    "        print(result)"
   ]
  },
  {
   "cell_type": "code",
   "execution_count": null,
   "id": "97676717",
   "metadata": {},
   "outputs": [],
   "source": [
    "# manual testing of determine_result_type.\n",
    "# If nothing is printed then presumption is that\n",
    "# function is working\n",
    "for result in matches.result.to_list():\n",
    "    determine_result_type(result)"
   ]
  },
  {
   "cell_type": "code",
   "execution_count": null,
   "id": "d1f44799",
   "metadata": {},
   "outputs": [],
   "source": [
    "def determine_game_score_from_points(points: str) -> (int, int):\n",
    "    \"\"\"\n",
    "    Determine the score in games of a match.\n",
    "\n",
    "    Parameters\n",
    "    ----------\n",
    "    points : str\n",
    "        The points in each game of a match. Should be something\n",
    "        like '11-8, 7-11, 11-9, 12-10'\n",
    "        * points for each game separated by ', '\n",
    "        * points of players in a single game separated by '-'\n",
    "        * in each game, the first number is the points of the\n",
    "        winner of the match\n",
    "\n",
    "    Returns\n",
    "    -------\n",
    "    n_games_won_by_winner : int\n",
    "        The number of games won by the winner of the match\n",
    "\n",
    "    n_games_won_by_loser : int\n",
    "        The number of games won by the loser of the match\n",
    "    \"\"\"\n",
    "    # parse the input string\n",
    "    points_parsed = [[int(i) for i in point.split(\"-\")] for point in points.split(\", \")]\n",
    "\n",
    "    # calculate number of games won by winner and loser.\n",
    "    # convention is that for each game, the first number\n",
    "    # in the pair is the points of the winner of the match.\n",
    "    n_games_won_by_winner = 0\n",
    "    n_games_won_by_loser = 0\n",
    "    for points_winner, points_loser in points_parsed:\n",
    "        if points_winner > points_loser:\n",
    "            n_games_won_by_winner += 1\n",
    "        elif points_loser > points_winner:\n",
    "            n_games_won_by_loser += 1\n",
    "\n",
    "    return n_games_won_by_winner, n_games_won_by_loser"
   ]
  },
  {
   "cell_type": "code",
   "execution_count": null,
   "id": "388dfbf2",
   "metadata": {},
   "outputs": [],
   "source": [
    "# manual testing of determine_game_score\n",
    "print(determine_game_score_from_points('11-8, 7-11, 11-9, 12-10'))\n",
    "print(determine_game_score_from_points('1-11, 11-3, 11-9'))"
   ]
  },
  {
   "cell_type": "code",
   "execution_count": null,
   "id": "3c1349f4",
   "metadata": {},
   "outputs": [],
   "source": []
  }
 ],
 "metadata": {
  "kernelspec": {
   "display_name": "Python 3 (ipykernel)",
   "language": "python",
   "name": "python3"
  },
  "language_info": {
   "codemirror_mode": {
    "name": "ipython",
    "version": 3
   },
   "file_extension": ".py",
   "mimetype": "text/x-python",
   "name": "python",
   "nbconvert_exporter": "python",
   "pygments_lexer": "ipython3",
   "version": "3.9.6"
  }
 },
 "nbformat": 4,
 "nbformat_minor": 5
}
