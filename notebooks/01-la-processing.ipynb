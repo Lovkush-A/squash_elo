{
 "cells": [
  {
   "cell_type": "code",
   "execution_count": null,
   "id": "2f44dbb6",
   "metadata": {},
   "outputs": [],
   "source": [
    "import pandas as pd\n",
    "import numpy as np\n",
    "import matplotlib.pyplot as plt\n",
    "import seaborn as sns\n",
    "%config InlineBackend.figure_format = \"retina\"\n",
    "\n",
    "import os\n",
    "import re\n",
    "from tqdm.notebook import tqdm"
   ]
  },
  {
   "cell_type": "markdown",
   "id": "bbf93bdb",
   "metadata": {},
   "source": [
    "# Summary\n",
    "In this notebook I carry out EDA, cleaning and processing of data.\n",
    "\n",
    "\n",
    "Cleaning and processing:\n",
    "\n",
    "* tournaments_male.csv. Decided this is not useful so did nothing with this\n",
    "* matches_male.csv.\n",
    "    * Dropped the columns `tournament_index` and `round`\n",
    "    * Categorized the `result` column and extracted the score in games from this\n",
    "    * Dropped all entries in which the result is 'bye' or one of two outlier matches\n",
    "    * Extracted winners' and losers' names, countries and seeds from `player column`\n",
    "\n",
    "EDA:\n",
    "\n",
    "* Found some dirty data by looking at the (new) columns `games_winner` and `games_loser`. For the purposes of this project, I left them in as I all I need to know is who won or lost.\n",
    "* Looked at player's win percentages. Many of the players with high win percentages are great players' of the game, but there are a few people who surprisingly feature highly via this metric.\n",
    "* Looked at some stats grouped by seed. Found that in matches between 1st and 2nd seed, 1st seeds wins around 65% of the time."
   ]
  },
  {
   "cell_type": "markdown",
   "id": "ca6efc52",
   "metadata": {},
   "source": [
    "### Load data"
   ]
  },
  {
   "cell_type": "code",
   "execution_count": null,
   "id": "2c85a1c2",
   "metadata": {},
   "outputs": [],
   "source": [
    "dir_raw = \"../data/raw/\"\n",
    "dir_processed = \"../data/processed\""
   ]
  },
  {
   "cell_type": "code",
   "execution_count": null,
   "id": "158f54a9",
   "metadata": {},
   "outputs": [],
   "source": [
    "os.listdir(dir_raw)"
   ]
  },
  {
   "cell_type": "code",
   "execution_count": null,
   "id": "56785bd1",
   "metadata": {},
   "outputs": [],
   "source": [
    "matches = pd.read_csv(dir_raw + \"matches_male.csv\", index_col=0)\n",
    "tournaments = pd.read_csv(dir_raw + \"tournaments_male.csv\", index_col=0)"
   ]
  },
  {
   "cell_type": "code",
   "execution_count": null,
   "id": "1e0e798b",
   "metadata": {},
   "outputs": [],
   "source": [
    "matches.head(5)"
   ]
  },
  {
   "cell_type": "code",
   "execution_count": null,
   "id": "98fe71ef",
   "metadata": {},
   "outputs": [],
   "source": [
    "tournaments.head(5)"
   ]
  },
  {
   "cell_type": "markdown",
   "id": "2a957457",
   "metadata": {},
   "source": [
    "For the aim of the project, this tournament dataframe is not necessary so I will not explore it further"
   ]
  },
  {
   "cell_type": "markdown",
   "id": "16a524f7",
   "metadata": {},
   "source": [
    "### `tournament_index` and `round`"
   ]
  },
  {
   "cell_type": "code",
   "execution_count": null,
   "id": "28970ddd",
   "metadata": {},
   "outputs": [],
   "source": [
    "# drop tournament index as we do not need tournament information for elo\n",
    "matches = matches.drop(columns=[\"tournament_index\"])"
   ]
  },
  {
   "cell_type": "code",
   "execution_count": null,
   "id": "484b99c2",
   "metadata": {},
   "outputs": [],
   "source": [
    "matches[\"round\"].value_counts()"
   ]
  },
  {
   "cell_type": "code",
   "execution_count": null,
   "id": "2a324040",
   "metadata": {},
   "outputs": [],
   "source": [
    "matches = matches.drop(columns=[\"round\"])"
   ]
  },
  {
   "cell_type": "markdown",
   "id": "503559ee",
   "metadata": {},
   "source": [
    "We can see that the round column is a little bit dirty. However, like tournament index, it is actually not useful for us so I decided to drop it."
   ]
  },
  {
   "cell_type": "markdown",
   "id": "9824e007",
   "metadata": {},
   "source": [
    "### `result`, extracting information from results column\n",
    "\n",
    "The next few functions took several iterations and experimentation to create. I did not record the process by which I incrementally improved the function."
   ]
  },
  {
   "cell_type": "code",
   "execution_count": null,
   "id": "aed150d3",
   "metadata": {},
   "outputs": [],
   "source": [
    "def determine_result_type(result: str) -> (str):\n",
    "    if \"bye\" in result:\n",
    "        return \"bye\"\n",
    "\n",
    "    if \"w/o\" in result:\n",
    "        return \"wo\"\n",
    "\n",
    "    if \"ret\" in result:\n",
    "        return \"ret\"\n",
    "\n",
    "    if \"unknown\" in result:\n",
    "        return \"unknown\"\n",
    "\n",
    "    if result == \"No shows\":\n",
    "        return \"other\"\n",
    "\n",
    "    if result == \"Final not played due to unsafe court conditions\":\n",
    "        return \"other\"\n",
    "\n",
    "    if \"3/\" in result:\n",
    "        # then result is of the form \"3/i\" or \"3/i (15m)\" where i=0,1 or 2\n",
    "        return \"3/\"\n",
    "\n",
    "    if \"2/\" in result:\n",
    "        # then result is of the form \"2/i\" or \"2/i (15m)\" where i=0,1\n",
    "        return \"2/\"\n",
    "\n",
    "    # pattern should match '11-3, 4-11, 11-9 (44m)'\n",
    "    pat = r\"(?P<points>[\\d, -]+\\d)(?: \\((?P<time>\\d+)m\\))?\"\n",
    "    if re.match(pat, result):\n",
    "        return \"points\"\n",
    "\n",
    "    # if none of the above conditions were met, then\n",
    "    # want to see what it is\n",
    "    if True:\n",
    "        print(result)"
   ]
  },
  {
   "cell_type": "code",
   "execution_count": null,
   "id": "1038ae44",
   "metadata": {},
   "outputs": [],
   "source": [
    "# manual testing of determine_result_type.\n",
    "# If nothing is printed then presumption is that\n",
    "# function is working\n",
    "for result in matches.result.to_list():\n",
    "    determine_result_type(result)"
   ]
  },
  {
   "cell_type": "code",
   "execution_count": null,
   "id": "d1f44799",
   "metadata": {},
   "outputs": [],
   "source": [
    "def determine_game_score_from_points(points: str) -> (int, int):\n",
    "    \"\"\"\n",
    "    Determine the score in games of a match.\n",
    "\n",
    "    Parameters\n",
    "    ----------\n",
    "    points : str\n",
    "        The points in each game of a match. Should be something\n",
    "        like '11-8, 7-11, 11-9, 12-10'\n",
    "        * points for each game separated by ', '\n",
    "        * points of players in a single game separated by '-'\n",
    "        * in each game, the first number is the points of the\n",
    "        winner of the match\n",
    "\n",
    "    Returns\n",
    "    -------\n",
    "    n_games_won_by_winner : int\n",
    "        The number of games won by the winner of the match\n",
    "\n",
    "    n_games_won_by_loser : int\n",
    "        The number of games won by the loser of the match\n",
    "    \"\"\"\n",
    "    # parse the input string\n",
    "    points_parsed = [[int(i) for i in point.split(\"-\")] for point in points.split(\", \")]\n",
    "\n",
    "    # calculate number of games won by winner and loser.\n",
    "    # convention is that for each game, the first number\n",
    "    # in the pair is the points of the winner of the match.\n",
    "    n_games_won_by_winner = 0\n",
    "    n_games_won_by_loser = 0\n",
    "    for points_winner, points_loser in points_parsed:\n",
    "        if points_winner > points_loser:\n",
    "            n_games_won_by_winner += 1\n",
    "        elif points_loser > points_winner:\n",
    "            n_games_won_by_loser += 1\n",
    "\n",
    "    return n_games_won_by_winner, n_games_won_by_loser"
   ]
  },
  {
   "cell_type": "code",
   "execution_count": null,
   "id": "388dfbf2",
   "metadata": {},
   "outputs": [],
   "source": [
    "# manual testing of determine_game_score\n",
    "print(determine_game_score_from_points(\"11-8, 7-11, 11-9, 12-10\"))\n",
    "print(determine_game_score_from_points(\"1-11, 11-3, 11-9\"))"
   ]
  },
  {
   "cell_type": "code",
   "execution_count": null,
   "id": "1727d24a",
   "metadata": {},
   "outputs": [],
   "source": [
    "def process_results_column(df: pd.DataFrame) -> pd.DataFrame:\n",
    "    \"\"\"\n",
    "    Process raw results column to get games won by winner and loser\n",
    "    \n",
    "    Parameters\n",
    "    ----------\n",
    "    df : pd.DataFrame\n",
    "        dataframe containing a column 'result'\n",
    "    \n",
    "    Returns\n",
    "    -------\n",
    "    pd.DataFrame\n",
    "        New dataframe that is copy of the original but with two\n",
    "        additional columns, for the number of games won by\n",
    "        the winner and loser respectively. \n",
    "    \"\"\"\n",
    "    df_copy = df.copy()\n",
    "    \n",
    "    games_winner = []\n",
    "    games_loser = []\n",
    "    results = df_copy.result.to_list()\n",
    "\n",
    "    for result in tqdm(results):\n",
    "        result_type = determine_result_type(result)\n",
    "        \n",
    "        if result_type in ['bye', 'wo', 'ret', 'unknown', 'other']:\n",
    "            games_winner.append(np.nan)\n",
    "            games_loser.append(np.nan)\n",
    "        \n",
    "        elif result_type in ['3/', '2/']:\n",
    "            # then result is of the form \"3/i ...\" or \"2/i ...\"\n",
    "            games_winner.append(int(result[0]))\n",
    "            games_loser.append(int(result[2]))\n",
    "        \n",
    "        elif result_type == 'points':\n",
    "            # we presume results is of standard form\n",
    "            # \"11-5, 11-9, 12-10 ...\"\n",
    "            pat = r\"(?P<points>[\\d, -]+\\d)(?: \\((?P<time>\\d+)m\\))?\"\n",
    "            match = re.match(pat, result)\n",
    "            points = match.group('points')\n",
    "            w, l = determine_game_score_from_points(points)\n",
    "            \n",
    "            games_winner.append(w)\n",
    "            games_loser.append(l)\n",
    "        \n",
    "        else:\n",
    "            # if functions created properly, this should never run\n",
    "            print(result)\n",
    "            print(result_type)\n",
    "\n",
    "    df_copy['games_winner'] = games_winner\n",
    "    df_copy['games_loser'] = games_loser\n",
    "    \n",
    "    return df_copy"
   ]
  },
  {
   "cell_type": "code",
   "execution_count": null,
   "id": "8c0ee3d1",
   "metadata": {},
   "outputs": [],
   "source": [
    "matches = process_results_column(matches)\n",
    "matches"
   ]
  },
  {
   "cell_type": "markdown",
   "id": "b8054557",
   "metadata": {},
   "source": [
    "## `players`, extracting information"
   ]
  },
  {
   "cell_type": "code",
   "execution_count": null,
   "id": "8f26184b",
   "metadata": {},
   "outputs": [],
   "source": [
    "for _, row in matches.iterrows():\n",
    "    if \"bt\" not in row.players and row.result != \"bye\":\n",
    "        print(row)"
   ]
  },
  {
   "cell_type": "markdown",
   "id": "59de38e1",
   "metadata": {},
   "source": [
    "Based on above, want to drop the entries which are bye or these other outlier events. All other entries will have 'bt' in players, so there was a winner and a loser"
   ]
  },
  {
   "cell_type": "code",
   "execution_count": null,
   "id": "e7d784a6",
   "metadata": {},
   "outputs": [],
   "source": [
    "# remove entries in which there was no winner or loser\n",
    "bad_results = [\"bye\", \"No shows\", \"Final not played due to unsafe court conditions\"]\n",
    "indices = ~matches.result.isin(bad_results)\n",
    "matches = matches[indices]"
   ]
  },
  {
   "cell_type": "code",
   "execution_count": null,
   "id": "b05dff1f",
   "metadata": {},
   "outputs": [],
   "source": [
    "# check that all entries of players have 'bt'\n",
    "for _, row in matches.iterrows():\n",
    "    if \"bt\" not in row.players:\n",
    "        print(row)"
   ]
  },
  {
   "cell_type": "code",
   "execution_count": null,
   "id": "2782a5d4",
   "metadata": {},
   "outputs": [],
   "source": [
    "def split_players_to_winner_loser(df):\n",
    "    \"\"\"\n",
    "    Split players column in raw data into winner and loser.\n",
    "\n",
    "    Parameters\n",
    "    ----------\n",
    "    df : pd.DataFrame\n",
    "        dataframe containing a column 'players' where all\n",
    "        entries are strings of the form '{winner} bt {loser}'\n",
    "\n",
    "    Returns\n",
    "    -------\n",
    "    pd.DataFrame\n",
    "        New dataframe that is copy of the original but with two\n",
    "        additional columns, one for winner info and one for loser\n",
    "        info\n",
    "    \"\"\"\n",
    "    df_new = df.copy()\n",
    "\n",
    "    players = df_new.players.str.split(pat=\" bt \")\n",
    "    df_new[\"winner\"] = players.map(lambda x: x[0])\n",
    "    df_new[\"loser\"] = players.map(lambda x: x[1])\n",
    "    return df_new"
   ]
  },
  {
   "cell_type": "code",
   "execution_count": null,
   "id": "12a23ec5",
   "metadata": {},
   "outputs": [],
   "source": [
    "matches = split_players_to_winner_loser(matches)\n",
    "matches"
   ]
  },
  {
   "cell_type": "code",
   "execution_count": null,
   "id": "3e7b0707",
   "metadata": {},
   "outputs": [],
   "source": [
    "def parse_player_entry(player: str) -> (str, str, str):\n",
    "    \"\"\"\n",
    "    Extract player name, country and seed from player entry.\n",
    "    \n",
    "    Parameter\n",
    "    ---------\n",
    "    player: str\n",
    "        String of the form '[9/16] Amaad Fareed (PAK)'\n",
    "    \n",
    "    Returns\n",
    "    -------\n",
    "    (str, str, str)\n",
    "        player's name, player's country, player's seed\n",
    "    \"\"\"\n",
    "    pat_seed = r\"(\\[(?P<seed>\\S+)\\] )?\"\n",
    "    pat_name = r\"(?P<name>(?:\\w+[ '-])+\\w+)\"\n",
    "    pat_bracketed_info = r\"(?: \\(\\w+\\))?\"\n",
    "    pat_country = r\" \\((?P<country>[A-Z]{3,3})\\)\"\n",
    "    pat = pat_seed+pat_name+pat_bracketed_info+pat_country\n",
    "    \n",
    "    match = re.search(pat, player)\n",
    "    \n",
    "    try:\n",
    "        seed = match.group('seed')\n",
    "        name = match.group('name')\n",
    "        country = match.group('country')\n",
    "        return (name, country, seed)\n",
    "    except:\n",
    "        print(player)\n",
    "        return (np.nan, np.nan, np.nan)"
   ]
  },
  {
   "cell_type": "code",
   "execution_count": null,
   "id": "237f91d7",
   "metadata": {},
   "outputs": [],
   "source": [
    "def split_player_info(df, column: str) -> pd.DataFrame:\n",
    "    \"\"\"\n",
    "    Split the winner or loser column into seed, name and country.\n",
    "    \n",
    "    Parameters\n",
    "    ----------\n",
    "    df: pd.DataFrame\n",
    "        dataframe with winner or loser column, as extracted\n",
    "        from the function `split_players_to_winner_loser`\n",
    "    columns: str\n",
    "        either 'winner' or 'loser'\n",
    "    \n",
    "    Returns\n",
    "    -------\n",
    "    pd.DataFrame\n",
    "        new dataframe with three additional columns:\n",
    "        * {column}_name\n",
    "        * {column}_country\n",
    "        * {column}_seed\n",
    "    \"\"\"\n",
    "    df_copy = df.copy()\n",
    "    player_info = df_copy[column].to_list()\n",
    "    names = []\n",
    "    countries = []\n",
    "    seeds = []\n",
    "    \n",
    "    for player in player_info:\n",
    "        name, country, seed = parse_player_entry(player)\n",
    "        names.append(name)\n",
    "        countries.append(country)\n",
    "        seeds.append(seed)\n",
    "    \n",
    "    df_copy[f\"{column}_name\"] = names\n",
    "    df_copy[f\"{column}_country\"] = countries\n",
    "    df_copy[f\"{column}_seed\"] = seeds\n",
    "    \n",
    "    return df_copy"
   ]
  },
  {
   "cell_type": "code",
   "execution_count": null,
   "id": "ccfda458",
   "metadata": {},
   "outputs": [],
   "source": [
    "matches = split_player_info(matches, 'loser')\n",
    "matches = split_player_info(matches, 'winner')\n",
    "matches"
   ]
  },
  {
   "cell_type": "markdown",
   "id": "618edaac",
   "metadata": {},
   "source": [
    "## Reorder so it is chronological"
   ]
  },
  {
   "cell_type": "code",
   "execution_count": null,
   "id": "d9a89a07",
   "metadata": {},
   "outputs": [],
   "source": [
    "matches = matches[::-1].reset_index(drop=True)"
   ]
  },
  {
   "cell_type": "markdown",
   "id": "d2574fca",
   "metadata": {},
   "source": [
    "## EDA"
   ]
  },
  {
   "cell_type": "markdown",
   "id": "eb6a3742",
   "metadata": {},
   "source": [
    "#### Explore games score"
   ]
  },
  {
   "cell_type": "code",
   "execution_count": null,
   "id": "3fe98f96",
   "metadata": {},
   "outputs": [],
   "source": [
    "matches.groupby(['games_winner', 'games_loser']).size()"
   ]
  },
  {
   "cell_type": "markdown",
   "id": "aac556a0",
   "metadata": {},
   "source": [
    "We see that there is some dirty data here. Lets explore and find out."
   ]
  },
  {
   "cell_type": "code",
   "execution_count": null,
   "id": "e558dfef",
   "metadata": {},
   "outputs": [],
   "source": [
    "indices_1 = matches.games_winner == 1\n",
    "indices_2 = (matches.games_winner == 2) & (matches.games_loser >= 2)\n",
    "indices_4 = matches.games_winner == 4\n",
    "\n",
    "indices = indices_1 | indices_2 | indices_4\n",
    "\n",
    "matches[indices]"
   ]
  },
  {
   "cell_type": "markdown",
   "id": "fe1749c4",
   "metadata": {},
   "source": [
    "It looks like the majority of them must be data entry mistakes. E.g. the first entry here shows scores of 1-9, 9-1, 10-8, 9-5, 9-0, so a game score of 4-1. It is likely that one of the points scores were entered the wrong way around and the correct score should be 3-2.\n",
    "\n",
    "For ELO, you only need to know who won or lost the match, so I will keep these entries unchanged. However, if I want to make use of game scores, then I would have to manually change these to make them sensible or remove them.\n",
    "\n",
    "Given that they are a small percentage of all matches, whatever one does with these (manually change or delete) will have little impact on the final performance of the model."
   ]
  },
  {
   "cell_type": "markdown",
   "id": "65515d43",
   "metadata": {},
   "source": [
    "#### Explore loser_name and winner_name"
   ]
  },
  {
   "cell_type": "code",
   "execution_count": null,
   "id": "57c8f6bf",
   "metadata": {},
   "outputs": [],
   "source": [
    "losses = matches.loser_name.value_counts()\n",
    "losses.shape"
   ]
  },
  {
   "cell_type": "code",
   "execution_count": null,
   "id": "771197b1",
   "metadata": {},
   "outputs": [],
   "source": [
    "wins = matches.winner_name.value_counts()\n",
    "wins.shape"
   ]
  },
  {
   "cell_type": "code",
   "execution_count": null,
   "id": "4cccc153",
   "metadata": {},
   "outputs": [],
   "source": [
    "player_record = pd.merge(\n",
    "    left=losses, right=wins, left_index=True, right_index=True, how=\"outer\"\n",
    ").fillna(value=0)\n",
    "\n",
    "player_record.columns = [\"losses\", \"wins\"]\n",
    "\n",
    "player_record.shape"
   ]
  },
  {
   "cell_type": "code",
   "execution_count": null,
   "id": "f04e7509",
   "metadata": {},
   "outputs": [],
   "source": [
    "player_record[\"total\"] = player_record.losses + player_record.wins\n",
    "player_record[\"wins_percentage\"] = (\n",
    "    100 * player_record.wins / player_record.total\n",
    ").round(1)"
   ]
  },
  {
   "cell_type": "code",
   "execution_count": null,
   "id": "556e5ada",
   "metadata": {},
   "outputs": [],
   "source": [
    "player_record[player_record.total > 20].sort_values(\n",
    "    by=[\"wins_percentage\", \"total\"], ascending=False\n",
    ").head(30)"
   ]
  },
  {
   "cell_type": "code",
   "execution_count": null,
   "id": "ad00d67e",
   "metadata": {},
   "outputs": [],
   "source": [
    "fig, ax = plt.subplots()\n",
    "sns.histplot(player_record[player_record.total > 20].wins_percentage)\n",
    "plt.title(\"Distribution of players' percentage of matches won\")\n",
    "ax.set_xlabel('Percentage of matches won')"
   ]
  },
  {
   "cell_type": "markdown",
   "id": "9594bbe4",
   "metadata": {},
   "source": [
    "#### Explore loser_seed and winner_seed"
   ]
  },
  {
   "cell_type": "code",
   "execution_count": null,
   "id": "8388f756",
   "metadata": {},
   "outputs": [],
   "source": [
    "matches.groupby(['winner_seed', 'loser_seed']).size()"
   ]
  },
  {
   "cell_type": "markdown",
   "id": "3412378d",
   "metadata": {},
   "source": [
    "There are too many entries to be useful. I will instead search for particular examples."
   ]
  },
  {
   "cell_type": "code",
   "execution_count": null,
   "id": "44a0eb33",
   "metadata": {},
   "outputs": [],
   "source": [
    "def calculate_summaries_by_seed(df, seeds, null=False):\n",
    "    \"\"\"\n",
    "    Calculate summary stats for a list/set of seeds.\n",
    "    \"\"\"\n",
    "    indices = df.winner_seed.isin(seeds) & df.loser_seed.isin(seeds)\n",
    "    \n",
    "    if null:\n",
    "        null_loss = df.winner_seed.isin(seeds) & df.loser_seed.isnull()\n",
    "        null_win = df.winner_seed.isnull() & df.loser_seed.isin(seeds)\n",
    "        indices = indices | null_loss | null_win\n",
    "    \n",
    "    return df[indices].groupby(['winner_seed', 'loser_seed'], dropna=False).size()"
   ]
  },
  {
   "cell_type": "code",
   "execution_count": null,
   "id": "866e1950",
   "metadata": {},
   "outputs": [],
   "source": [
    "calculate_summaries_by_seed(matches, ['1','2'])"
   ]
  },
  {
   "cell_type": "code",
   "execution_count": null,
   "id": "bb6651a8",
   "metadata": {},
   "outputs": [],
   "source": [
    "466/(466+243)"
   ]
  },
  {
   "cell_type": "code",
   "execution_count": null,
   "id": "79aa3aa4",
   "metadata": {},
   "outputs": [],
   "source": [
    "calculate_summaries_by_seed(matches, ['1', '2','3', '4'])"
   ]
  },
  {
   "cell_type": "code",
   "execution_count": null,
   "id": "ff5af1eb",
   "metadata": {},
   "outputs": [],
   "source": [
    "calculate_summaries_by_seed(matches, ['1'], null=True)"
   ]
  },
  {
   "cell_type": "code",
   "execution_count": null,
   "id": "364c36e7",
   "metadata": {},
   "outputs": [],
   "source": [
    "2095/(2095+234)"
   ]
  },
  {
   "cell_type": "code",
   "execution_count": null,
   "id": "2b4b5856",
   "metadata": {},
   "outputs": [],
   "source": [
    "calculate_summaries_by_seed(matches, ['2'], null=True)"
   ]
  },
  {
   "cell_type": "code",
   "execution_count": null,
   "id": "113c203b",
   "metadata": {},
   "outputs": [],
   "source": [
    "1900/(1900+293)"
   ]
  },
  {
   "cell_type": "markdown",
   "id": "bb7dc289",
   "metadata": {},
   "source": [
    "## Save the dataframe"
   ]
  },
  {
   "cell_type": "code",
   "execution_count": null,
   "id": "08482eab",
   "metadata": {},
   "outputs": [],
   "source": [
    "matches.to_csv(dir_processed+\"matches.csv\")"
   ]
  },
  {
   "cell_type": "code",
   "execution_count": null,
   "id": "5c26af99",
   "metadata": {},
   "outputs": [],
   "source": [
    "test = pd.read_csv(dir_processed+\"matches.csv\", index_col=0)\n",
    "test"
   ]
  }
 ],
 "metadata": {
  "kernelspec": {
   "display_name": "Python 3 (ipykernel)",
   "language": "python",
   "name": "python3"
  },
  "language_info": {
   "codemirror_mode": {
    "name": "ipython",
    "version": 3
   },
   "file_extension": ".py",
   "mimetype": "text/x-python",
   "name": "python",
   "nbconvert_exporter": "python",
   "pygments_lexer": "ipython3",
   "version": "3.9.6"
  }
 },
 "nbformat": 4,
 "nbformat_minor": 5
}
