{
 "cells": [
  {
   "cell_type": "code",
   "execution_count": null,
   "id": "8e8df2b7",
   "metadata": {},
   "outputs": [],
   "source": [
    "import pandas as pd\n",
    "import numpy as np\n",
    "from tqdm.notebook import tqdm"
   ]
  },
  {
   "cell_type": "code",
   "execution_count": null,
   "id": "f32ceffd",
   "metadata": {},
   "outputs": [],
   "source": [
    "dir_processed = \"../data/processed\""
   ]
  },
  {
   "cell_type": "code",
   "execution_count": null,
   "id": "f85d862f",
   "metadata": {},
   "outputs": [],
   "source": [
    "matches = pd.read_csv(dir_processed+\"matches.csv\", index_col=0)"
   ]
  },
  {
   "cell_type": "code",
   "execution_count": null,
   "id": "16f3fac1",
   "metadata": {},
   "outputs": [],
   "source": [
    "matches.head()"
   ]
  },
  {
   "cell_type": "code",
   "execution_count": null,
   "id": "3331c0b0",
   "metadata": {},
   "outputs": [],
   "source": [
    "def calculate_predicted_score(\n",
    "    rating1: float,\n",
    "    rating2: float\n",
    ") -> float:\n",
    "    \"\"\"\n",
    "    Calculate the predicted score using ELO rating system\n",
    "    \n",
    "    Parameters\n",
    "    ----------\n",
    "    rating1, rating2: float\n",
    "        ELO ratings of two players\n",
    "    \n",
    "    Returns\n",
    "    -------\n",
    "    float\n",
    "        The predicted score of a player with rating1 against\n",
    "        a player with rating2 using the ELO rating system\n",
    "    \"\"\"\n",
    "    return 1 / (1 + 10**((rating2 - rating1) / 400))"
   ]
  },
  {
   "cell_type": "code",
   "execution_count": null,
   "id": "88f1345b",
   "metadata": {},
   "outputs": [],
   "source": [
    "def calculate_new_ratings(\n",
    "    rating_winner: float,\n",
    "    rating_loser: float,\n",
    "    predicted_score: float,\n",
    "    K: float = 32,\n",
    ") -> (float, float):\n",
    "    \"\"\"\n",
    "    Calculate new elo ratings.\n",
    "\n",
    "    Parameters\n",
    "    ----------\n",
    "    rating_winner, rating_loser: float\n",
    "        ELO ratings of the winner and loser, respectively.\n",
    "    predicted_score: float in range [0, 1]\n",
    "        The expected score of the winner of the match.\n",
    "    K: float, default 32\n",
    "        Constant that determines how much the ratings are adjusted.\n",
    "\n",
    "    Returns\n",
    "    -------\n",
    "    new_rating_winner, new_rating_loser: float\n",
    "        New ELO ratings\n",
    "    \"\"\"\n",
    "    delta_rating = K * (1 - predicted_score)\n",
    "\n",
    "    new_rating_winner = rating_winner + delta_rating\n",
    "    new_rating_loser = rating_loser - delta_rating\n",
    "\n",
    "    return new_rating_winner, new_rating_loser"
   ]
  },
  {
   "cell_type": "code",
   "execution_count": null,
   "id": "0047cfcf",
   "metadata": {},
   "outputs": [],
   "source": [
    "# manually test the above functions\n",
    "\n",
    "for delta in range(-500, 501, 50):\n",
    "    predicted_score = calculate_predicted_score(delta, 0)\n",
    "    new_rating_winner, new_rating_loser = calculate_new_ratings(\n",
    "        delta, 0, predicted_score\n",
    "    )\n",
    "    \n",
    "    print(f'Old winner rating: {delta:3}.')\n",
    "    print(f'Old loser rating: 0')\n",
    "    print(f'Predicted score: {predicted_score}')\n",
    "    print(f'New winner rating: {new_rating_winner}')\n",
    "    print(f'New loser rating: {new_rating_loser}')\n",
    "    print()"
   ]
  },
  {
   "cell_type": "code",
   "execution_count": null,
   "id": "5c029bb2",
   "metadata": {},
   "outputs": [],
   "source": [
    "def update_ratings(player_ratings, winner_name, loser_name):\n",
    "    \"\"\"\n",
    "    Update ratings based on a single new result.\n",
    "    \n",
    "    If winner or loser is not already in the player_ratings\n",
    "    dictionary, then a fresh entry with a rating of 1500 is\n",
    "    created.\n",
    "    \n",
    "    Parameters\n",
    "    ----------\n",
    "    player_ratings: Dict[str, float]\n",
    "        dictionary of player ratings\n",
    "    winner_name, loser_name: str,\n",
    "        name of winner and loser\n",
    "    \n",
    "    Returns\n",
    "    -------\n",
    "    player_ratings\n",
    "        updated player ratings\n",
    "    rating_winner_old\n",
    "    rating_winner_new\n",
    "    rating_loser_old\n",
    "    rating_loser_new\n",
    "    expected_score\n",
    "    \"\"\""
   ]
  },
  {
   "cell_type": "code",
   "execution_count": null,
   "id": "b88f7731",
   "metadata": {},
   "outputs": [],
   "source": [
    "def calculate_elo(matches: pd.DataFrame) -> pd.DataFrame:\n",
    "    \"\"\"\n",
    "    Calculate elo ratings for all players and match history from\n",
    "    the matches input.\n",
    "    \n",
    "    Parameters\n",
    "    ----------\n",
    "    matches: pd.DataFrame\n",
    "        dataframe of match history\n",
    "    \n",
    "    Returns\n",
    "    -------\n",
    "    pd.DataFrame\n",
    "        copy of matches dataframe with new columns for:\n",
    "        * rating_winner_old\n",
    "        * rating_winner_new\n",
    "        * rating_loser_old\n",
    "        * rating_loser_new\n",
    "        * expected_score\n",
    "    \"\"\""
   ]
  },
  {
   "cell_type": "code",
   "execution_count": null,
   "id": "a9f79d4e",
   "metadata": {},
   "outputs": [],
   "source": [
    "def evaluate_calibration(df_input: pd.DataFrame) -> pd.Series:\n",
    "    \"\"\"\n",
    "    Evaluate how well calibrated the ELO ratings are.\n",
    "    \n",
    "    Parameters\n",
    "    ----------\n",
    "    df_input\n",
    "        dataframe as outputted by calculate_elo\n",
    "    \n",
    "    Returns\n",
    "    -------\n",
    "    pd.Series\n",
    "        * index are buckets [0.5-0.6, 0.6-0.7,..., 0.9-1.0]\n",
    "        * values are the average true score of matches whose predicted\n",
    "        score is in that bucket\n",
    "    \"\"\""
   ]
  }
 ],
 "metadata": {
  "kernelspec": {
   "display_name": "Python 3 (ipykernel)",
   "language": "python",
   "name": "python3"
  },
  "language_info": {
   "codemirror_mode": {
    "name": "ipython",
    "version": 3
   },
   "file_extension": ".py",
   "mimetype": "text/x-python",
   "name": "python",
   "nbconvert_exporter": "python",
   "pygments_lexer": "ipython3",
   "version": "3.9.6"
  }
 },
 "nbformat": 4,
 "nbformat_minor": 5
}
