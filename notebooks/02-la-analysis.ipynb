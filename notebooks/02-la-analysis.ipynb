{
 "cells": [
  {
   "cell_type": "code",
   "execution_count": null,
   "id": "2ea2fbd0",
   "metadata": {},
   "outputs": [],
   "source": [
    "import pandas as pd\n",
    "import numpy as np\n",
    "from tqdm.notebook import tqdm"
   ]
  },
  {
   "cell_type": "code",
   "execution_count": null,
   "id": "fb971005",
   "metadata": {},
   "outputs": [],
   "source": [
    "dir_processed = \"../data/processed\""
   ]
  },
  {
   "cell_type": "code",
   "execution_count": null,
   "id": "ba2ca4f6",
   "metadata": {},
   "outputs": [],
   "source": [
    "matches = pd.read_csv(dir_processed+\"matches.csv\", index_col=0)"
   ]
  },
  {
   "cell_type": "code",
   "execution_count": null,
   "id": "c5414790",
   "metadata": {},
   "outputs": [],
   "source": [
    "matches.head()"
   ]
  },
  {
   "cell_type": "code",
   "execution_count": null,
   "id": "926a9bb6",
   "metadata": {},
   "outputs": [],
   "source": [
    "def calculate_expected_score(\n",
    "    rating1: float,\n",
    "    rating2: float\n",
    ") -> float:\n",
    "    \"\"\"\n",
    "    Calculate the expected score using ELO rating system\n",
    "    \n",
    "    Parameters\n",
    "    ----------\n",
    "    rating1, rating2: float\n",
    "        ELO ratings of two players\n",
    "    \n",
    "    Returns\n",
    "    -------\n",
    "    float\n",
    "        The expected score of a player with rating1 against\n",
    "        a player with rating2 using the ELO rating system\n",
    "    \"\"\"\n",
    "    return 1 / (1 + 10**((rating2 - rating1) / 400))\n",
    "\n",
    "# list the expected scores for various differences in ratings\n",
    "for delta in range(0, 501, 20):\n",
    "    print(f'Difference in rating: {delta:3}.' +\n",
    "          f'Expected score: {calculate_expected_score(delta, 0)}')"
   ]
  }
 ],
 "metadata": {
  "kernelspec": {
   "display_name": "Python 3 (ipykernel)",
   "language": "python",
   "name": "python3"
  },
  "language_info": {
   "codemirror_mode": {
    "name": "ipython",
    "version": 3
   },
   "file_extension": ".py",
   "mimetype": "text/x-python",
   "name": "python",
   "nbconvert_exporter": "python",
   "pygments_lexer": "ipython3",
   "version": "3.9.6"
  }
 },
 "nbformat": 4,
 "nbformat_minor": 5
}
