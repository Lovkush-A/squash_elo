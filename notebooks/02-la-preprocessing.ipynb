{
 "cells": [
  {
   "cell_type": "code",
   "execution_count": null,
   "metadata": {},
   "outputs": [],
   "source": [
    "import pandas as pd\n",
    "import numpy as np\n",
    "import matplotlib as plt\n",
    "import seaborn as sns\n",
    "\n",
    "import os\n",
    "import re\n",
    "from tqdm.notebook import tqdm"
   ]
  },
  {
   "cell_type": "markdown",
   "metadata": {},
   "source": [
    "https://stackoverflow.com/questions/574730/python-how-to-ignore-an-exception-and-proceed"
   ]
  },
  {
   "cell_type": "code",
   "execution_count": null,
   "metadata": {},
   "outputs": [],
   "source": [
    "dir_raw = 'data_raw/'\n",
    "dir_preprocessed = 'data_preprocessed/'"
   ]
  },
  {
   "cell_type": "code",
   "execution_count": null,
   "metadata": {},
   "outputs": [],
   "source": [
    "df_raw = pd.read_csv(dir_raw+'matches_male.csv', index_col = 0)"
   ]
  },
  {
   "cell_type": "code",
   "execution_count": null,
   "metadata": {},
   "outputs": [],
   "source": [
    "df_raw.head(20)"
   ]
  },
  {
   "cell_type": "markdown",
   "metadata": {},
   "source": [
    "# check if rows either have 'a bt b' or if they are bye"
   ]
  },
  {
   "cell_type": "code",
   "execution_count": null,
   "metadata": {},
   "outputs": [],
   "source": [
    "bt_indices = df_raw.players.str.contains('bt')\n",
    "bye_indices = (df_raw.result == 'bye')"
   ]
  },
  {
   "cell_type": "code",
   "execution_count": null,
   "metadata": {},
   "outputs": [],
   "source": [
    "df_raw[~(bt_indices|bye_indices)]"
   ]
  },
  {
   "cell_type": "code",
   "execution_count": null,
   "metadata": {},
   "outputs": [],
   "source": [
    "df_raw[(bt_indices & bye_indices)]"
   ]
  },
  {
   "cell_type": "code",
   "execution_count": null,
   "metadata": {},
   "outputs": [],
   "source": []
  },
  {
   "cell_type": "markdown",
   "metadata": {},
   "source": [
    "# select subset where match is actually played, rather than bye"
   ]
  },
  {
   "cell_type": "code",
   "execution_count": null,
   "metadata": {},
   "outputs": [],
   "source": [
    "def remove_bye_misc(df):\n",
    "    df_copy = df.copy()\n",
    "    return df_copy.loc[df.players.str.contains('bt')]"
   ]
  },
  {
   "cell_type": "code",
   "execution_count": null,
   "metadata": {},
   "outputs": [],
   "source": [
    "df = remove_bye_misc(df_raw)"
   ]
  },
  {
   "cell_type": "markdown",
   "metadata": {},
   "source": [
    "# sort it so it is in chronological order, rather than reverse chronological"
   ]
  },
  {
   "cell_type": "code",
   "execution_count": null,
   "metadata": {},
   "outputs": [],
   "source": [
    "df.sort_index(ascending = False, inplace = True)"
   ]
  },
  {
   "cell_type": "markdown",
   "metadata": {},
   "source": [
    "# extract player information"
   ]
  },
  {
   "cell_type": "code",
   "execution_count": null,
   "metadata": {},
   "outputs": [],
   "source": [
    "def split_players(df):\n",
    "    df_new = df.copy()\n",
    "    df_new['players'] = df.players.str.split(pat = ' bt ')\n",
    "    df_new['winner'] = df_new.players.map(lambda x: x[0])\n",
    "    df_new['loser'] = df_new.players.map(lambda x: x[1])\n",
    "    return df_new"
   ]
  },
  {
   "cell_type": "code",
   "execution_count": null,
   "metadata": {},
   "outputs": [],
   "source": [
    "df = split_players(df)"
   ]
  },
  {
   "cell_type": "code",
   "execution_count": null,
   "metadata": {},
   "outputs": [],
   "source": [
    "def extract_player_information(df):\n",
    "    df_new = df.copy()\n",
    "    \n",
    "    pat_seed = r'(\\[(?P<seed>\\S+)\\] )?'\n",
    "    pat_name = r'(?P<name>(?:\\w+\\b )+\\w+\\b)'\n",
    "    pat_country = r' \\((?P<country>[A-Z]{3,3})\\)'\n",
    "    pat = pat_seed+pat_name+pat_country\n",
    "    \n",
    "    winners = df_new.winner.to_list()\n",
    "    winner_seeds = []\n",
    "    winner_names = []\n",
    "    winner_countries = []\n",
    "    for winner in tqdm(winners):\n",
    "        match = re.search(pat, winner)\n",
    "        try:\n",
    "            winner_seeds.append(match.group('seed'))\n",
    "        except AttributeError:\n",
    "            winner_seeds.append(np.nan)\n",
    "        try:\n",
    "            winner_names.append(match.group('name'))\n",
    "        except AttributeError:\n",
    "            winner_names.append(np.nan)\n",
    "        try:\n",
    "            winner_countries.append(match.group('country'))\n",
    "        except AttributeError:\n",
    "            winner_countries.append(np.nan)\n",
    "    df_new['winner_seed'] = winner_seeds\n",
    "    df_new['winner_name'] = winner_names\n",
    "    df_new['winner_country'] = winner_countries\n",
    "    \n",
    "    losers = df_new.loser.to_list()\n",
    "    loser_seeds = []\n",
    "    loser_names = []\n",
    "    loser_countries = []\n",
    "    for loser in tqdm(losers):\n",
    "        match = re.search(pat, loser)\n",
    "        try:\n",
    "            loser_seeds.append(match.group('seed'))\n",
    "        except AttributeError:\n",
    "            loser_seeds.append(np.nan)\n",
    "        try:\n",
    "            loser_names.append(match.group('name'))\n",
    "        except AttributeError:\n",
    "            loser_names.append(np.nan)\n",
    "        try:\n",
    "            loser_countries.append(match.group('country'))\n",
    "        except AttributeError:\n",
    "            loser_countries.append(np.nan)\n",
    "    df_new['loser_seed'] = loser_seeds\n",
    "    df_new['loser_name'] = loser_names\n",
    "    df_new['loser_country'] = loser_countries\n",
    "    \n",
    "    return df_new"
   ]
  },
  {
   "cell_type": "code",
   "execution_count": null,
   "metadata": {},
   "outputs": [],
   "source": [
    "df = extract_player_information(df)"
   ]
  },
  {
   "cell_type": "markdown",
   "metadata": {},
   "source": [
    "# manual changes"
   ]
  },
  {
   "cell_type": "code",
   "execution_count": null,
   "metadata": {},
   "outputs": [],
   "source": [
    "df.winner_name.replace('Zahed Mohamed', 'Zahed Salem', inplace = True)\n",
    "df.loser_name.replace('Zahed Mohamed', 'Zahed Salem', inplace = True)"
   ]
  },
  {
   "cell_type": "markdown",
   "metadata": {},
   "source": [
    "# drop unnecessary columns"
   ]
  },
  {
   "cell_type": "code",
   "execution_count": null,
   "metadata": {},
   "outputs": [],
   "source": [
    "df = df.drop(columns = ['players', 'winner', 'loser'])"
   ]
  },
  {
   "cell_type": "code",
   "execution_count": null,
   "metadata": {},
   "outputs": [],
   "source": [
    "df.head()"
   ]
  },
  {
   "cell_type": "markdown",
   "metadata": {},
   "source": [
    "# process 'results' column, to get scores of matches in games"
   ]
  },
  {
   "cell_type": "code",
   "execution_count": null,
   "metadata": {},
   "outputs": [],
   "source": [
    "def determine_game_score(scores):\n",
    "    \"\"\"\n",
    "    input is of the form '11-8, 7-11, 11-9, 12-10'\n",
    "    output is number of games the winner won and number of games loser won\n",
    "    \"\"\"\n",
    "    scores = [[int(i) for i in score.split('-')] for score in scores.split(', ') ]\n",
    "    winner_nGames = 0\n",
    "    loser_nGames = 0\n",
    "    for score in scores:\n",
    "        if score[0]>score[1]:\n",
    "            winner_nGames += 1\n",
    "        elif score[1] > score[0]:\n",
    "            loser_nGames +=1\n",
    "    \n",
    "    return winner_nGames, loser_nGames"
   ]
  },
  {
   "cell_type": "code",
   "execution_count": null,
   "metadata": {},
   "outputs": [],
   "source": [
    "# testing pattern used in next cell\n",
    "pat = r'(?P<scores>[\\d, -]+\\d)(?: \\((?P<time>\\d+)m\\))?'\n",
    "test = '6-9, 9-1, 6-9, 10-8, 9-6'\n",
    "\n",
    "match = re.match(pat, test)\n",
    "scores = match.group('scores')\n",
    "w,l = determine_game_score(scores)\n",
    "time = match.group('time')\n",
    "\n",
    "print(scores)\n",
    "print(w)\n",
    "print(l)\n",
    "print(time)"
   ]
  },
  {
   "cell_type": "code",
   "execution_count": null,
   "metadata": {},
   "outputs": [],
   "source": [
    "def process_result_column(df):\n",
    "    results = df.result.to_list()\n",
    "    results_processed = []\n",
    "    nGames = []\n",
    "    best_of = []\n",
    "    times = []\n",
    "\n",
    "    for result in tqdm(results):\n",
    "        if 'w/o' in result:\n",
    "            results_processed.append('wo')\n",
    "            nGames.append(np.nan)\n",
    "            best_of.append(np.nan)\n",
    "            times.append(np.nan)\n",
    "            continue\n",
    "\n",
    "        if 'ret' in result:\n",
    "            results_processed.append('ret')\n",
    "            nGames.append(np.nan)\n",
    "            best_of.append(np.nan)\n",
    "            times.append(np.nan)\n",
    "            continue\n",
    "\n",
    "        if 'unknown' in result:\n",
    "            results_processed.append('unknown')\n",
    "            nGames.append(np.nan)\n",
    "            best_of.append(np.nan)\n",
    "            times.append(np.nan)\n",
    "            continue\n",
    "\n",
    "        if '3/' in result:\n",
    "            # then result is of the form \"3/i\" or \"3/i (15m)\" where i=0,1 or 2\n",
    "            results_processed.append(result[:3])\n",
    "            nGames.append(int(result[2])+3)\n",
    "            best_of.append(5)\n",
    "            times.append(np.nan)\n",
    "            continue\n",
    "\n",
    "        if '2/' in result:\n",
    "            # then result is of the form \"2/i\" or \"2/i (15m)\" where i=0,1\n",
    "            results_processed.append(result[:3])\n",
    "            nGames.append(int(result[2])+2)\n",
    "            best_of.append(3)\n",
    "            times.append(np.nan)\n",
    "            continue\n",
    "\n",
    "        pat = r'(?P<scores>[\\d, -]+\\d)(?: \\((?P<time>\\d+)m\\))?'\n",
    "        try:\n",
    "            match = re.match(pat, result)\n",
    "            scores = match.group('scores')\n",
    "            w,l = determine_game_score(scores)\n",
    "            time = match.group('time')\n",
    "\n",
    "            results_processed.append(f'{w}/{l}')\n",
    "            nGames.append(w+l)\n",
    "            best_of.append(w*2-1)\n",
    "            times.append(time)\n",
    "        except:\n",
    "            print(result)\n",
    "            continue\n",
    "\n",
    "    df['results_processed'] = results_processed\n",
    "    df['nGames'] = nGames\n",
    "    df['best_of'] = best_of\n",
    "    df['times'] = times\n",
    "    \n",
    "    return df"
   ]
  },
  {
   "cell_type": "code",
   "execution_count": null,
   "metadata": {},
   "outputs": [],
   "source": [
    "df = process_result_column(df)"
   ]
  },
  {
   "cell_type": "code",
   "execution_count": null,
   "metadata": {},
   "outputs": [],
   "source": [
    "df.head()"
   ]
  },
  {
   "cell_type": "code",
   "execution_count": null,
   "metadata": {},
   "outputs": [],
   "source": [
    "df.nGames.value_counts()"
   ]
  },
  {
   "cell_type": "code",
   "execution_count": null,
   "metadata": {},
   "outputs": [],
   "source": [
    "df.results_processed.value_counts()"
   ]
  },
  {
   "cell_type": "markdown",
   "metadata": {},
   "source": [
    "# save frame"
   ]
  },
  {
   "cell_type": "code",
   "execution_count": null,
   "metadata": {},
   "outputs": [],
   "source": [
    "df.to_csv(dir_preprocessed+'matches_male.csv')"
   ]
  }
 ],
 "metadata": {
  "kernelspec": {
   "display_name": "Python 3",
   "language": "python",
   "name": "python3"
  },
  "language_info": {
   "codemirror_mode": {
    "name": "ipython",
    "version": 3
   },
   "file_extension": ".py",
   "mimetype": "text/x-python",
   "name": "python",
   "nbconvert_exporter": "python",
   "pygments_lexer": "ipython3",
   "version": "3.8.2"
  }
 },
 "nbformat": 4,
 "nbformat_minor": 4
}
