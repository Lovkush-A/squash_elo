{
 "cells": [
  {
   "cell_type": "code",
   "execution_count": null,
   "metadata": {},
   "outputs": [],
   "source": [
    "import pandas as pd\n",
    "import numpy as np\n",
    "import matplotlib.pyplot as plt\n",
    "import seaborn as sns\n",
    "\n",
    "import re\n",
    "import os\n",
    "# import math\n",
    "from tqdm.notebook import tqdm"
   ]
  },
  {
   "cell_type": "code",
   "execution_count": null,
   "metadata": {},
   "outputs": [],
   "source": [
    "dir_preprocessed = 'data_preprocessed/'"
   ]
  },
  {
   "cell_type": "code",
   "execution_count": null,
   "metadata": {},
   "outputs": [],
   "source": [
    "df_matches = pd.read_csv(dir_preprocessed + 'matches_male.csv', index_col =0 )"
   ]
  },
  {
   "cell_type": "code",
   "execution_count": null,
   "metadata": {},
   "outputs": [],
   "source": [
    "df_matches.head()"
   ]
  },
  {
   "cell_type": "code",
   "execution_count": null,
   "metadata": {},
   "outputs": [],
   "source": [
    "def expected_score(rating1, rating2): \n",
    "    return 1 / (1 + 10**((rating2 - rating1) / 400))\n",
    "\n",
    "for rating1 in range(0, 400, 20):\n",
    "    print(f'Delta rating: {rating1:3}.  Probability: {expected_score(rating1, 0)}')"
   ]
  },
  {
   "cell_type": "code",
   "execution_count": null,
   "metadata": {},
   "outputs": [],
   "source": [
    "def new_ratings(rating_winner, rating_loser, K = 90, result = None, use_games = False):\n",
    "    exp_score = expected_score(rating_winner, rating_loser)\n",
    "    \n",
    "    if not use_games:\n",
    "        actual_score = 1\n",
    "    elif use_games:\n",
    "        actual_scores = {\n",
    "            '3/0': 1.00,\n",
    "            '3/1': 0.90,\n",
    "            '3/2': 0.80,\n",
    "            '2/0': 0.90,\n",
    "            '2/1': 0.80,\n",
    "        }\n",
    "\n",
    "        # if the result is normal, i.e. it is a key in actual_scores variable, then update results.\n",
    "        # otherwise, result is something like 'walkover', so it is deemed uninformative\n",
    "        # in this latter case, manually make actual_score = expected_score, so there is no updates to ratings\n",
    "        actual_score = actual_scores.get(result, exp_score)\n",
    "    \n",
    "    rating_winner_new = rating_winner + K*(actual_score - exp_score)\n",
    "    rating_loser_new = rating_loser + K*(exp_score - actual_score)\n",
    "    return exp_score, rating_winner_new, rating_loser_new"
   ]
  },
  {
   "cell_type": "code",
   "execution_count": null,
   "metadata": {},
   "outputs": [],
   "source": [
    "def create_elo_ratings(df_input, use_games = False, K = 90):\n",
    "    df = df_input.copy()\n",
    "    \n",
    "    player_ratings = {}\n",
    "\n",
    "    ratings_winners = []\n",
    "    ratings_losers = []\n",
    "    expected_scores = []\n",
    "    \n",
    "    indices = df.index.to_list()\n",
    "    winners = df.winner_name.to_list()\n",
    "    losers = df.loser_name.to_list()\n",
    "    results = df.results_processed.to_list()\n",
    "    \n",
    "\n",
    "    for index, winner, loser, result in zip(indices, winners, losers, results):    \n",
    "        if winner not in player_ratings:\n",
    "            player_ratings[winner] = [1500]\n",
    "        rating_winner = player_ratings[winner][-1]\n",
    "\n",
    "        if loser not in player_ratings:\n",
    "            player_ratings[loser] = [1500]\n",
    "        rating_loser = player_ratings[loser][-1]\n",
    "\n",
    "        ratings_winners.append(rating_winner)\n",
    "        ratings_losers.append(rating_loser)\n",
    "\n",
    "        exp, rating_winner_new, rating_loser_new = new_ratings(rating_winner,\n",
    "                                                               rating_loser,\n",
    "                                                               K = K,\n",
    "                                                               result=result,\n",
    "                                                               use_games = use_games\n",
    "                                                              )\n",
    "\n",
    "        expected_scores.append(exp)\n",
    "        player_ratings[winner].append(rating_winner_new)\n",
    "        player_ratings[loser].append(rating_loser_new)\n",
    "\n",
    "    df['winner_rating'] = ratings_winners\n",
    "    df['loser_rating'] = ratings_losers\n",
    "    df['predicted_score'] = expected_scores\n",
    "    \n",
    "    return df, player_ratings"
   ]
  },
  {
   "cell_type": "code",
   "execution_count": null,
   "metadata": {},
   "outputs": [],
   "source": [
    "def create_current_ratings(player_ratings):\n",
    "    current_ratings = { player: player_ratings[player][-1] for player in player_ratings.keys()}\n",
    "    current_ratings = pd.Series(current_ratings, name='rating')\n",
    "    \n",
    "    n_matches = { player: len(player_ratings[player]) for player in player_ratings.keys()}\n",
    "    n_matches = pd.Series(n_matches, name='nMatches')\n",
    "    \n",
    "    df =  pd.concat([current_ratings, n_matches], axis=1)\n",
    "    return df.sort_values(by = 'rating', ascending = False)"
   ]
  },
  {
   "cell_type": "code",
   "execution_count": null,
   "metadata": {},
   "outputs": [],
   "source": [
    "def create_callabration_frame(df_matches, df_ratings, N=2):\n",
    "    cut_off = df_ratings.iloc[50, 0]\n",
    "    \n",
    "    df = df_matches.copy()\n",
    "    \n",
    "    df['predicted_score_better_player'] = (\n",
    "        df\n",
    "        .predicted_score\n",
    "        .apply(lambda x: round(N*x,1)/N if x> 0.5 else 1-round(N*x,1)/N)\n",
    "    )\n",
    "\n",
    "    df['true_score_better_player'] = (\n",
    "        df\n",
    "        .predicted_score\n",
    "        .apply(lambda x: 1 if x>0.5 else 0)\n",
    "    )\n",
    "\n",
    "    indices = ((df.winner_rating > cut_off)| (df.loser_rating > cut_off) )& (df_matches.index < 10000)\n",
    "\n",
    "    return (df[indices]\n",
    "     .groupby('predicted_score_better_player')\n",
    "     .agg({'true_score_better_player':['count', 'mean']})\n",
    "    )"
   ]
  },
  {
   "cell_type": "code",
   "execution_count": null,
   "metadata": {},
   "outputs": [],
   "source": [
    "def print_player_stats(df, player):\n",
    "    indices = (df.winner_name == player) | (df.loser_name == player)\n",
    "    df_player = df[indices]\n",
    "    \n",
    "    for _,row in df_player.iterrows():\n",
    "        w = row.winner_name\n",
    "        wr = row.winner_rating\n",
    "        ws = row.winner_seed\n",
    "        l = row.loser_name\n",
    "        lr = row.loser_rating\n",
    "        ls = row.loser_seed\n",
    "        exp = row.predicted_score\n",
    "        result = row.results_processed\n",
    "        print(f'{w:20} beat {l:20} {result:8} {wr:.0f} vs {lr:.0f}   {ws:3} vs {ls:3}   {exp:.2f}')"
   ]
  },
  {
   "cell_type": "code",
   "execution_count": null,
   "metadata": {},
   "outputs": [],
   "source": []
  },
  {
   "cell_type": "code",
   "execution_count": null,
   "metadata": {},
   "outputs": [],
   "source": []
  },
  {
   "cell_type": "code",
   "execution_count": null,
   "metadata": {},
   "outputs": [],
   "source": []
  },
  {
   "cell_type": "markdown",
   "metadata": {},
   "source": [
    "# look at no-games analysis"
   ]
  },
  {
   "cell_type": "code",
   "execution_count": null,
   "metadata": {},
   "outputs": [],
   "source": [
    "df_nogames, player_ratings_nogames = create_elo_ratings(df_matches, K = 40)"
   ]
  },
  {
   "cell_type": "code",
   "execution_count": null,
   "metadata": {},
   "outputs": [],
   "source": [
    "df_ratings_nogames = create_current_ratings(player_ratings_nogames)\n",
    "df_ratings_nogames.head(50)"
   ]
  },
  {
   "cell_type": "code",
   "execution_count": null,
   "metadata": {},
   "outputs": [],
   "source": [
    "df_callab_nogames = create_callabration_frame(df_nogames, df_ratings_nogames)\n",
    "df_callab_nogames"
   ]
  },
  {
   "cell_type": "code",
   "execution_count": null,
   "metadata": {},
   "outputs": [],
   "source": [
    "print_player_stats(df_nogames, 'Ramy Ashour')"
   ]
  },
  {
   "cell_type": "code",
   "execution_count": null,
   "metadata": {},
   "outputs": [],
   "source": []
  },
  {
   "cell_type": "code",
   "execution_count": null,
   "metadata": {},
   "outputs": [],
   "source": []
  },
  {
   "cell_type": "markdown",
   "metadata": {},
   "source": [
    "# with games analysis"
   ]
  },
  {
   "cell_type": "code",
   "execution_count": null,
   "metadata": {},
   "outputs": [],
   "source": [
    "df_games, player_ratings_games = create_elo_ratings(df_matches, use_games = True, K = 90)"
   ]
  },
  {
   "cell_type": "code",
   "execution_count": null,
   "metadata": {},
   "outputs": [],
   "source": [
    "df_ratings_games = create_current_ratings(player_ratings_games)\n",
    "df_ratings_games.head(50)"
   ]
  },
  {
   "cell_type": "code",
   "execution_count": null,
   "metadata": {},
   "outputs": [],
   "source": [
    "df_callab_games = create_callabration_frame(df_games, df_ratings_games)\n",
    "df_callab_games"
   ]
  },
  {
   "cell_type": "code",
   "execution_count": null,
   "metadata": {},
   "outputs": [],
   "source": [
    "print_player_stats(df_games, 'Ramy Ashour')"
   ]
  },
  {
   "cell_type": "code",
   "execution_count": null,
   "metadata": {},
   "outputs": [],
   "source": []
  },
  {
   "cell_type": "markdown",
   "metadata": {},
   "source": [
    "# highest ever elo rating"
   ]
  },
  {
   "cell_type": "code",
   "execution_count": null,
   "metadata": {},
   "outputs": [],
   "source": [
    "df_matches.loc[df_matches.loser_rating.idxmax()]"
   ]
  }
 ],
 "metadata": {
  "kernelspec": {
   "display_name": "Python 3",
   "language": "python",
   "name": "python3"
  },
  "language_info": {
   "codemirror_mode": {
    "name": "ipython",
    "version": 3
   },
   "file_extension": ".py",
   "mimetype": "text/x-python",
   "name": "python",
   "nbconvert_exporter": "python",
   "pygments_lexer": "ipython3",
   "version": "3.8.2"
  }
 },
 "nbformat": 4,
 "nbformat_minor": 4
}
